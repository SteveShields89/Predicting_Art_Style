{
 "cells": [
  {
   "cell_type": "markdown",
   "id": "06901a02",
   "metadata": {},
   "source": [
    "# Problem Statement"
   ]
  },
  {
   "cell_type": "markdown",
   "id": "297ccb0e",
   "metadata": {},
   "source": [
    "> In this notebook we will be discussing the problem we will be solving, why it is a problem, who this can help, and what our measures fo success will be. This will be the reoccuring topic and goal throughout these notebooks."
   ]
  },
  {
   "cell_type": "markdown",
   "id": "4f0f984b",
   "metadata": {},
   "source": [
    "---"
   ]
  },
  {
   "cell_type": "markdown",
   "id": "c1680a47",
   "metadata": {},
   "source": [
    "## Can a paintings art style be predicted by using the image in a CNN model?"
   ]
  },
  {
   "cell_type": "markdown",
   "id": "e59734db",
   "metadata": {},
   "source": [
    "> Describing/more context for the problem statement | Describe the audience this project is for and why it matters"
   ]
  },
  {
   "cell_type": "markdown",
   "id": "f43924c4",
   "metadata": {},
   "source": [
    "## Road Map"
   ]
  },
  {
   "cell_type": "markdown",
   "id": "32b0342b",
   "metadata": {},
   "source": [
    "**Data Collection** \n",
    "- Finding or creating a dataset to meet the needs of the project\n",
    "- Create or read in data into a pandas dataframe\n",
    "- Save to CSV to utilize in later cleaning notebook\n",
    "\n",
    "**Data Cleaning**\n",
    "- Preserve as much data as possible to maintain integrity\n",
    "- Check for null values\n",
    "- Examine data summaries to check for outliers or 'incorrect' data\n",
    "- Engineer features of relevance\n",
    "- Save cleaned data to new CSV to evaluate, analyze, visualize, and model\n",
    "- Prepare images for modeeling\n",
    "  - Resize and augment images\n",
    "  - Properly label and sort images based on style and index number\n",
    "  - Save to directory for modeling\n",
    "\n",
    "**EDA**\n",
    "- Describe the data\n",
    "- Summarize findings\n",
    "- Visualize trends and correlations of note in the data\n",
    "\n",
    "**Preprocessing & Modeling**\n",
    "- Utilizing libraries and tools to prepare image data to be processed by a model\n",
    "- Use tensorflow to create a CNN to train on the given data\n",
    "- Adjust hyperparamaters to increase accuracy and minimize loss\n",
    "- Feed the model images to test it's accuracy in prediction and identification"
   ]
  },
  {
   "cell_type": "markdown",
   "id": "da51acc1",
   "metadata": {},
   "source": [
    "## Measure of Success"
   ]
  },
  {
   "cell_type": "markdown",
   "id": "175f0143",
   "metadata": {},
   "source": [
    "> The goal of this model is to beat random guessing on the style of a painting. There are 51 classifiers in this dataset. A baseline is similar to taking the majority class, `Impressionism` at 3,515 images in our dataset, and guessing that every image would be that class. Our baseline is `0.039`, so we seek to outperform random guessing. Our goal is high accuracy, low loss, and to achieve a score higher than the baseline."
   ]
  },
  {
   "cell_type": "code",
   "execution_count": null,
   "id": "ea572eb3",
   "metadata": {},
   "outputs": [],
   "source": []
  }
 ],
 "metadata": {
  "kernelspec": {
   "display_name": "Python 3 (ipykernel)",
   "language": "python",
   "name": "python3"
  },
  "language_info": {
   "codemirror_mode": {
    "name": "ipython",
    "version": 3
   },
   "file_extension": ".py",
   "mimetype": "text/x-python",
   "name": "python",
   "nbconvert_exporter": "python",
   "pygments_lexer": "ipython3",
   "version": "3.9.13"
  }
 },
 "nbformat": 4,
 "nbformat_minor": 5
}
