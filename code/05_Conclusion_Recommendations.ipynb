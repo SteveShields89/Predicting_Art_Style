{
 "cells": [
  {
   "cell_type": "markdown",
   "id": "07779f04",
   "metadata": {},
   "source": [
    "# Conclusion & Recommendations"
   ]
  },
  {
   "cell_type": "markdown",
   "id": "34e2908d",
   "metadata": {},
   "source": [
    "> In this notebook we will give recommendations and come to a conclusion based upon the data collected in `01_Data_Collection`, analyzed in `03_EDA`, and modeled in `04_Preprocessing_Modeling` in this repository."
   ]
  },
  {
   "cell_type": "markdown",
   "id": "558e36a5",
   "metadata": {},
   "source": [
    "---"
   ]
  },
  {
   "cell_type": "markdown",
   "id": "036c6fda",
   "metadata": {},
   "source": [
    "## Primary Findings"
   ]
  },
  {
   "cell_type": "markdown",
   "id": "3b40e502",
   "metadata": {},
   "source": [
    "- Wikiart API has not been maintained well\n",
    "- `image_dataset_from_directory` is incredibly useful and helpful\n",
    "- 1430's is when black became the most dominant color for all artworks.\n",
    "- From 1740 to 1778s, Giovanni Battista Piranesi released around 1200 etchings which surfaced and gained tremendous market value after his death in 1778. \n",
    "- Even if you have a large amount of data, too many classes can still badly affect the model"
   ]
  },
  {
   "cell_type": "markdown",
   "id": "937e2439",
   "metadata": {},
   "source": [
    "---"
   ]
  },
  {
   "cell_type": "markdown",
   "id": "1f9e12c8",
   "metadata": {},
   "source": [
    "## Recommendations"
   ]
  },
  {
   "cell_type": "markdown",
   "id": "07aabdbe",
   "metadata": {},
   "source": [
    "- Have some idea what you're stealing before you pull the heist\n",
    "- Don't steal 10's of thousands of paintings at once- it really does just make everything more complicated\n",
    "- Making a CNN machine learning model to predict is too hard.  Just kidnap an art expert next time\n",
    "- Get a second opinion on what style some pieces are.  Even within the same genre, there are sometimes such a wide variation between works (to the untrained eye), that it’s hard to believe they really all are the same style.\n",
    "- Don’t have so many different possible prediction classes. Definitely try to combine some of the similar categories.\n"
   ]
  },
  {
   "cell_type": "markdown",
   "id": "67537e75",
   "metadata": {},
   "source": [
    "---"
   ]
  },
  {
   "cell_type": "markdown",
   "id": "2b0ef9fa",
   "metadata": {},
   "source": [
    "## Conclusion"
   ]
  },
  {
   "cell_type": "markdown",
   "id": "af106d4a",
   "metadata": {},
   "source": [
    "> Our model is a failed model. It predicts incorrectly 4/5ths of the time. That is not a case for a successful model. Our baseline was 0.0397 and although we achieved our metric of success, 0.178, it is nowhere near production ready and needs more time to develop. We've learn quite a bit from this experience and realize that predicting something as subjective as art is a difficult task, especially with 51 labels. I hope that you learn from our mistakes and find the same growth we have in this process."
   ]
  },
  {
   "cell_type": "markdown",
   "id": "cd36c6b1",
   "metadata": {},
   "source": [
    "---"
   ]
  },
  {
   "cell_type": "markdown",
   "id": "69e66412",
   "metadata": {},
   "source": [
    "## Next Steps"
   ]
  },
  {
   "cell_type": "markdown",
   "id": "a978dc5c",
   "metadata": {},
   "source": [
    "- More time : Given another week to experiment with the following steps I strongly feel we could've gotten better results.\n",
    "- More Processing power : this was a severe limitation on our project, as many models often had to run overnight on only 5 epochs.\n",
    "- Combine like art styles (High/Early/Late Renaissance) : 51 classes is a tall order\n",
    "- Higher resolution images : Could've possibly improved model accuracy, but would also increase amount of time needed to run\n",
    "- Using only most populated classes : less classes and plenty of data to use, however this reduces the overall size of the data drastically\n",
    "- Using models other than CNN : we put most of our focus into making this type of neural network work, but other types such as Deep Neural Networks or utilizing Transfer Learning could have improved our prediction ability"
   ]
  },
  {
   "cell_type": "code",
   "execution_count": null,
   "id": "8e1a93f7",
   "metadata": {},
   "outputs": [],
   "source": []
  }
 ],
 "metadata": {
  "kernelspec": {
   "display_name": "Python 3 (ipykernel)",
   "language": "python",
   "name": "python3"
  },
  "language_info": {
   "codemirror_mode": {
    "name": "ipython",
    "version": 3
   },
   "file_extension": ".py",
   "mimetype": "text/x-python",
   "name": "python",
   "nbconvert_exporter": "python",
   "pygments_lexer": "ipython3",
   "version": "3.9.13"
  }
 },
 "nbformat": 4,
 "nbformat_minor": 5
}
